{
 "cells": [
  {
   "cell_type": "code",
   "execution_count": 1,
   "metadata": {},
   "outputs": [],
   "source": [
    "import librosa\n",
    "# import librosa.display\n",
    "# # import essentia.standard as es\n",
    "# %matplotlib qt\n",
    "# import matplotlib.pyplot as plt\n",
    "from __future__ import print_function\n",
    "import numpy as np"
   ]
  },
  {
   "cell_type": "code",
   "execution_count": 2,
   "metadata": {},
   "outputs": [],
   "source": [
    "# this part is to test whether the wave file is loaded correctly\n",
    "audio_file = 'vocal_short.wav'\n",
    "audio, sr = librosa.load(audio_file, sr=48000, mono=True)\n",
    "# plt.figure()\n",
    "# plt.plot(audio)"
   ]
  },
  {
   "cell_type": "code",
   "execution_count": 3,
   "metadata": {},
   "outputs": [],
   "source": [
    "onset_env = librosa.onset.onset_strength(audio, sr=sr)\n",
    "tempo = librosa.beat.tempo(onset_envelope=onset_env, sr=sr)"
   ]
  },
  {
   "cell_type": "code",
   "execution_count": 4,
   "metadata": {},
   "outputs": [
    {
     "name": "stdout",
     "output_type": "stream",
     "text": [
      "[122.2826087]\n"
     ]
    }
   ],
   "source": [
    "print(tempo)"
   ]
  },
  {
   "cell_type": "code",
   "execution_count": 5,
   "metadata": {},
   "outputs": [
    {
     "name": "stdout",
     "output_type": "stream",
     "text": [
      "(4097, 8559)\n"
     ]
    }
   ],
   "source": [
    "# data = vamp.collect(audio, sr, 'mtg-melodia:melodia')\n",
    "# print(vamp.list_plugins)\n",
    "# this part is to perform the stft\n",
    "win_length = 1024\n",
    "window = 'hann'\n",
    "n_fft = 8192\n",
    "hop_length = 128\n",
    "X = librosa.stft(audio,n_fft = n_fft,hop_length = hop_length,\\\n",
    "                 win_length = win_length, window = window)\n",
    "X_Normal = 2* np.absolute(X) / np.sum(np.hanning(win_length))\n",
    "# plt.figure()\n",
    "# librosa.display.specshow(librosa.amplitude_to_db(X_Normal,ref=np.max),\\\n",
    "#                          y_axis='log', x_axis='time')\n",
    "# plt.colorbar(format='%+2.0f dB')\n",
    "\n",
    "print(X_Normal.shape)"
   ]
  },
  {
   "cell_type": "code",
   "execution_count": 6,
   "metadata": {},
   "outputs": [
    {
     "name": "stdout",
     "output_type": "stream",
     "text": [
      "(4097, 8559)\n",
      "(291, 8559)\n"
     ]
    }
   ],
   "source": [
    "freq_min = 55\n",
    "freq_max = 1760\n",
    "k_min = np.floor(freq_min * n_fft / sr)\n",
    "k_max = np.floor(freq_max * n_fft / sr)\n",
    "print(X_Normal.shape)\n",
    "# print(X_Normal.shape)\n",
    "X_Crop = X_Normal[int(k_min) : int(k_max),:]\n",
    "print(X_Crop.shape)\n",
    "\n",
    "# test librosa salient\n",
    "freqs = np.linspace(freq_min,freq_max,num = X_Crop.shape[0])\n",
    "# # freqs test ok\n",
    "# # print(freqs)\n",
    "# harms = [1,2,3,4,5]\n",
    "# weights = [1.0,0.45,0.33,0.25,0.10]\n",
    "\n",
    "\n",
    "\n",
    "# S_sal = librosa.salience(X_Crop,freqs,harms,weights,fill_value = 0)\n",
    "# print(S_sal.shape)\n",
    "# plt.figure()\n",
    "# librosa.display.specshow(librosa.amplitude_to_db(S_sal,ref=np.max),sr = sr,\\\n",
    "#                          y_axis = 'linear', x_axis = 'time')\n"
   ]
  },
  {
   "cell_type": "code",
   "execution_count": 7,
   "metadata": {},
   "outputs": [],
   "source": [
    "from __future__ import division, print_function\n",
    "import numpy as np\n",
    "\n",
    "def detect_peaks(x, mph=None, mpd=1, threshold=0, edge='rising',\n",
    "                 kpsh=False, valley=False, show=False, ax=None):\n",
    "    x = np.atleast_1d(x).astype('float64')\n",
    "    if x.size < 3:\n",
    "        return np.array([], dtype=int)\n",
    "    if valley:\n",
    "        x = -x\n",
    "    # find indices of all peaks\n",
    "    dx = x[1:] - x[:-1]\n",
    "    # handle NaN's\n",
    "    indnan = np.where(np.isnan(x))[0]\n",
    "    if indnan.size:\n",
    "        x[indnan] = np.inf\n",
    "        dx[np.where(np.isnan(dx))[0]] = np.inf\n",
    "    ine, ire, ife = np.array([[], [], []], dtype=int)\n",
    "    if not edge:\n",
    "        ine = np.where((np.hstack((dx, 0)) < 0) & (np.hstack((0, dx)) > 0))[0]\n",
    "    else:\n",
    "        if edge.lower() in ['rising', 'both']:\n",
    "            ire = np.where((np.hstack((dx, 0)) <= 0) & (np.hstack((0, dx)) > 0))[0]\n",
    "        if edge.lower() in ['falling', 'both']:\n",
    "            ife = np.where((np.hstack((dx, 0)) < 0) & (np.hstack((0, dx)) >= 0))[0]\n",
    "    ind = np.unique(np.hstack((ine, ire, ife)))\n",
    "    # handle NaN's\n",
    "    if ind.size and indnan.size:\n",
    "        # NaN's and values close to NaN's cannot be peaks\n",
    "        ind = ind[np.in1d(ind, np.unique(np.hstack((indnan, indnan-1, indnan+1))), invert=True)]\n",
    "    # first and last values of x cannot be peaks\n",
    "    if ind.size and ind[0] == 0:\n",
    "        ind = ind[1:]\n",
    "    if ind.size and ind[-1] == x.size-1:\n",
    "        ind = ind[:-1]\n",
    "    # remove peaks < minimum peak height\n",
    "    if ind.size and mph is not None:\n",
    "        ind = ind[x[ind] >= mph]\n",
    "    # remove peaks - neighbors < threshold\n",
    "    if ind.size and threshold > 0:\n",
    "        dx = np.min(np.vstack([x[ind]-x[ind-1], x[ind]-x[ind+1]]), axis=0)\n",
    "        ind = np.delete(ind, np.where(dx < threshold)[0])\n",
    "    # detect small peaks closer than minimum peak distance\n",
    "    if ind.size and mpd > 1:\n",
    "        ind = ind[np.argsort(x[ind])][::-1]  # sort ind by peak height\n",
    "        idel = np.zeros(ind.size, dtype=bool)\n",
    "        for i in range(ind.size):\n",
    "            if not idel[i]:\n",
    "                # keep peaks with the same height if kpsh is True\n",
    "                idel = idel | (ind >= ind[i] - mpd) & (ind <= ind[i] + mpd) \\\n",
    "                    & (x[ind[i]] > x[ind] if kpsh else True)\n",
    "                idel[i] = 0  # Keep current peak\n",
    "        # remove the small peaks and sort back the indices by their occurrence\n",
    "        ind = np.sort(ind[~idel])\n",
    "    return ind"
   ]
  },
  {
   "cell_type": "code",
   "execution_count": 8,
   "metadata": {},
   "outputs": [],
   "source": [
    "sample_amount = X_Crop.shape[1]\n",
    "# define the space to store the peak frequencies\n",
    "pks_locs = np.zeros((sample_amount,3))\n",
    "\n",
    "# import the signal package\n",
    "from scipy import signal\n",
    "\n",
    "for i in range(sample_amount):\n",
    "    iFrame = X_Crop[:,i]\n",
    "    peakInd = detect_peaks(iFrame)\n",
    "    # plt.plot(X_Crop[:,850])\n",
    "    # get the amplitude of the peaks\n",
    "    if(peakInd.size >= 3):\n",
    "        local_max_Peaks = iFrame[peakInd]\n",
    "        # sort the amplitudes and find the stornges ones using sort\n",
    "        indSort = np.argsort(local_max_Peaks)\n",
    "        # find the frequency according to the index\n",
    "        sortedLocs = peakInd[indSort]\n",
    "        sortedLocs = sortedLocs[::-1]\n",
    "        # put them into the memery space\n",
    "        # just the first three strongest\n",
    "        pks_locs[i,:] = sortedLocs[0:3]\n",
    "    else:\n",
    "        pks_locs[i,:] = np.array([0,0,0])\n",
    "\n"
   ]
  },
  {
   "cell_type": "code",
   "execution_count": 9,
   "metadata": {},
   "outputs": [],
   "source": [
    "# this block is to seperate the seqs\n",
    "hop = 128\n",
    "frameSize = 1024\n",
    "\n",
    "#now create a space to store the seqs\n",
    "seqs = np.zeros((sample_amount,frameSize))\n",
    "#Now we put the blocks into the seqs\n",
    "for i in np.arange(0,len(audio)-frameSize,hop):\n",
    "        seqs[i//128,:] = audio[i:i+frameSize]\n",
    "        \n"
   ]
  },
  {
   "cell_type": "code",
   "execution_count": 10,
   "metadata": {},
   "outputs": [],
   "source": [
    "# this block is to compute energy \n",
    "E = np.multiply(seqs,seqs)\n",
    "E = np.sum(E,axis = 1)\n",
    "E[np.where(E<0.0000001)] = 0.00001\n",
    "E = np.log10(E)\n",
    "\n",
    "# print(E.shape)"
   ]
  },
  {
   "cell_type": "code",
   "execution_count": 11,
   "metadata": {},
   "outputs": [],
   "source": [
    "#this block is to compute zero crossing\n",
    "zeros_cros = np.zeros((sample_amount,1))\n",
    "for i in range(sample_amount):\n",
    "    seq = seqs[i,:]\n",
    "    indexs = np.diff(np.sign(seq))\n",
    "    indexs = np.abs(indexs)\n",
    "    zeros_pos = np.array((np.where(indexs == 2)))\n",
    "    zeros_cros[i] = zeros_pos.shape[1]"
   ]
  },
  {
   "cell_type": "code",
   "execution_count": 12,
   "metadata": {},
   "outputs": [],
   "source": [
    "# S_mfcc = librosa.feature.mfcc(y = audio,sr = sr, hop_length = hop_length, \\\n",
    "#                                         n_fft= n_fft,n_mfcc = 20)\n",
    "auto_corr = np.zeros((sample_amount,1))\n",
    "for i in range(sample_amount):\n",
    "    seq = seqs[i,:]\n",
    "    numerator = np.sum(np.multiply(seq[1:frameSize], seq[0:frameSize-1]))\n",
    "    denominator = np.sqrt(np.sum(np.multiply(seq[1:frameSize],seq[1:frameSize]))  * \\\n",
    "                         np.sum(np.multiply(seq[0:frameSize-1],seq[0:frameSize-1])) )\n",
    "    if(denominator == 0):\n",
    "        denominator = 0.0001;\n",
    "    \n",
    "    auto_corr[i] = numerator / denominator"
   ]
  },
  {
   "cell_type": "code",
   "execution_count": 13,
   "metadata": {},
   "outputs": [],
   "source": [
    "# transform all to np.array again\n",
    "E = np.reshape(E,(sample_amount,1))\n",
    "zeros_cros = np.reshape(zeros_cros,(sample_amount,1))\n",
    "# print(zeros_cros.shape)\n",
    "auto_corr = np.reshape(auto_corr,(sample_amount,1))\n",
    "# print(auto_corr.shape)\n",
    "\n",
    "\n",
    "pks_locs = np.array(pks_locs)\n",
    "mean_pks = np.mean(pks_locs[:,0:2],axis = 1)\n",
    "mean_pks = np.reshape(mean_pks,(sample_amount,1))\n",
    "dataSet = np.concatenate((E,zeros_cros,auto_corr,mean_pks),axis = 1)\n",
    "\n",
    "\n",
    "\n",
    "####################################################################################################\n",
    "# pks_locs = pks_locs[:, 0:2]\n",
    "# # after some experiments I found out it is better to sort the pks_locs somehow\n",
    "# pks_locs.sort(axis=1)\n",
    "\n",
    "# # concatenate along the features\n",
    "# dataSet = np.concatenate((E, zeros_cros, auto_corr, pks_locs[:, 0:2]), axis=1)\n",
    "#################################################################################################\n",
    "\n",
    "\n",
    "\n",
    "# print(dataSet[1200:1250,:])\n",
    "#zscore\n",
    "from scipy import stats\n",
    "dataSet = stats.zscore(dataSet,axis = 0)\n",
    "\n"
   ]
  },
  {
   "cell_type": "code",
   "execution_count": 14,
   "metadata": {},
   "outputs": [],
   "source": [
    "from sklearn.cluster import KMeans\n",
    "start_matrix = np.array([[1  ,-1  ,0  ,0  ],\n",
    "                [0  ,0  ,1  ,-1   ],\n",
    "                [-2  ,2  ,2  ,2   ],\n",
    "                [-3  ,3  ,3  ,3   ]])\n",
    "#####################################################################################\n",
    "\n",
    "# start_matrix = np.array([[1, -1, 3, 0, 0],\n",
    "#                          [0, 0, 2, -1, -1],\n",
    "#                          [-2, 2, 1, 2, 1],\n",
    "#                          [-3, 3, 0, 3, 3]])\n",
    "\n",
    "\n",
    "##################################################################################\n",
    "\n",
    "\n",
    "kmeans = KMeans(n_clusters = 4, init = start_matrix,n_init = 1).fit(dataSet)\n",
    "pyidx = kmeans.labels_\n",
    "\n",
    "\n",
    "# import scipy.io as sio\n",
    "# sio.savemat('../MatlabExp/pyidx.mat',{'pyidx':pyidx})"
   ]
  },
  {
   "cell_type": "markdown",
   "metadata": {},
   "source": [
    "## Above is finished run from the following"
   ]
  },
  {
   "cell_type": "code",
   "execution_count": 15,
   "metadata": {},
   "outputs": [],
   "source": [
    "# %matplotlib qt\n",
    "x = np.linspace(0,len(audio),len(audio))\n",
    "x = x / 128;\n",
    "# plt.figure()\n",
    "pyidx[np.where(pyidx>0)] = 1\n",
    "# plt.plot(x,audio)\n",
    "diff_pyidx = np.diff(pyidx)\n",
    "# plt.plot(diff_pyidx)\n",
    "\n"
   ]
  },
  {
   "cell_type": "code",
   "execution_count": 16,
   "metadata": {},
   "outputs": [
    {
     "name": "stdout",
     "output_type": "stream",
     "text": [
      "[ 715  811  866  995 1078 1237 1248 1329 1533 1535 1584 1593 1745 2142\n",
      " 2146 2151 2155 2168 2175 2194 2254 2266 2618 3148 3559 3565 3571 3579\n",
      " 3623 3652 4003 4005 4370 4519 4530 4693 4704 4884 5045 5231 6278 6287\n",
      " 6290 6294 6305 6342 6345 6386 6447 6515 7123 7308 7696 7706 7713 7716\n",
      " 7719 7722 7724 7746 7829 7988 8117 8120 8122 8360]\n",
      "[ 721  812  977 1060 1234 1247 1320 1516 1534 1536 1588 1724 2106 2144\n",
      " 2148 2152 2164 2169 2184 2196 2261 2581 2957 3539 3560 3568 3572 3580\n",
      " 3631 3964 4004 4303 4498 4524 4679 4698 4863 4987 5171 5845 6279 6289\n",
      " 6293 6295 6307 6344 6352 6393 6499 7063 7268 7626 7705 7707 7714 7717\n",
      " 7720 7723 7729 7751 7969 8077 8118 8121 8325 8550]\n"
     ]
    }
   ],
   "source": [
    "\n",
    "pitch_on = np.where(diff_pyidx <0)\n",
    "pitch_off = np.where(diff_pyidx > 0)\n",
    "# print(pitch_on[0])\n",
    "# print(np.where(pitch_off > pitch_on[0,0]))\n",
    "pitch_off_arr = pitch_off[0]\n",
    "pitch_on_arr = pitch_on[0]\n",
    "start = pitch_on_arr[0]\n",
    "pitch_off_arr = pitch_off_arr[np.where(pitch_off_arr > start)]\n",
    "\n",
    "print(pitch_on_arr)\n",
    "print(pitch_off_arr)\n"
   ]
  },
  {
   "cell_type": "code",
   "execution_count": 17,
   "metadata": {},
   "outputs": [
    {
     "name": "stdout",
     "output_type": "stream",
     "text": [
      "[ 866  995 1078 1248 1329 1593 1745 2266 2618 3148 3652 4005 4370 4530\n",
      " 4704 4884 5045 5231 6447 6515 7123 7308 7829 7988 8122 8360]\n",
      "[ 977 1060 1234 1320 1516 1724 2106 2581 2957 3539 3964 4303 4498 4679\n",
      " 4863 4987 5171 5845 6499 7063 7268 7626 7969 8077 8325 8550]\n",
      "26\n"
     ]
    }
   ],
   "source": [
    "#find the duration of the small durations, here the threshold is set to 10\n",
    "# that is approximately 30ms\n",
    "duration = pitch_off_arr - pitch_on_arr\n",
    "small_dur_idx = np.where(duration < 15)\n",
    "pitch_on_arr = np.delete(pitch_on_arr,small_dur_idx)\n",
    "pitch_off_arr = np.delete(pitch_off_arr,small_dur_idx)\n",
    "print(pitch_on_arr)\n",
    "print(pitch_off_arr)\n",
    "print(len(pitch_on_arr))\n",
    "# plt.figure()\n"
   ]
  },
  {
   "cell_type": "code",
   "execution_count": 18,
   "metadata": {},
   "outputs": [],
   "source": [
    "def findBreak(energy_wave,window_size = 80, hop_size = 10,height = 2.5):\n",
    "    wave_dealt = energy_wave.flatten()\n",
    "    wave_dealt =  wave_dealt[window_size//2: -window_size//2]\n",
    "    wave_dealt = stats.zscore(wave_dealt)\n",
    "    sample_amount = np.floor( (len(wave_dealt)-window_size)/hop_size)\n",
    "    sample_amount = np.int16(sample_amount)\n",
    "    sum_diff = np.zeros(sample_amount)\n",
    "    for i in range(sample_amount):\n",
    "        pos = i* hop_size\n",
    "        wave_part = wave_dealt[pos : pos + window_size]\n",
    "        diff_wave = np.diff(wave_part)\n",
    "        sum_diff[i] = np.sum(diff_wave[0:window_size//2]) * (-1) \\\n",
    "                    + np.sum(diff_wave[window_size//2:])\n",
    "#     plt.figure()\n",
    "#     plt.plot(sum_diff)\n",
    "#     plt.figure()\n",
    "#     plt.plot(wave_dealt)\n",
    "    from scipy.signal import find_peaks\n",
    "    peaks,_ = find_peaks(sum_diff,height = height)\n",
    "    final_peaks = np.array([])\n",
    "    for peak in peaks:\n",
    "        if(peak < sum_diff.size -1):\n",
    "            if sum_diff[peak] > 3.5:\n",
    "                final_peaks = np.append(final_peaks,peak)\n",
    "            else:\n",
    "                diff_area = sum_diff[peak-1] + sum_diff[peak+1]+sum_diff[peak]\n",
    "                if diff_area > 6.0:\n",
    "                    final_peaks = np.append(final_peaks,peak)\n",
    "#     peaks,_ = find_peaks(sum_diff,height = height)\n",
    "    i = 0\n",
    "    if final_peaks.size >1:\n",
    "        while i< final_peaks.size-1:\n",
    "            if(final_peaks[i+1] - final_peaks[i])<=3:\n",
    "                final_peaks = np.delete(final_peaks,i)\n",
    "                i -= 1\n",
    "            i+=1\n",
    "    return final_peaks\n",
    "        \n",
    "    "
   ]
  },
  {
   "cell_type": "code",
   "execution_count": 19,
   "metadata": {},
   "outputs": [],
   "source": [
    "# # # # plt.figure()\n",
    "# # # # plt.plot(E[469+40:771-40].flatten())\n",
    "# test = E[6791:7128].flatten()\n",
    "# final_peaks = findBreak(test)\n",
    "# print(final_peaks)\n",
    "# window_size = 80\n",
    "# hop_size = 10\n",
    "# wave_dealt = stats.zscore(test)\n",
    "# sample_amount = np.floor( (len(wave_dealt)-window_size)/hop_size)\n",
    "# sample_amount = np.int16(sample_amount)\n",
    "# sum_diff = np.zeros(sample_amount)\n",
    "# for i in range(sample_amount):\n",
    "#     pos = i* hop_size\n",
    "#     wave_part = wave_dealt[pos : pos + window_size]\n",
    "#     diff_wave = np.diff(wave_part)\n",
    "#     sum_diff[i] = np.sum(diff_wave[0:window_size//2]) * (-1) \\\n",
    "#                 + np.sum(diff_wave[window_size//2:])\n",
    "# plt.figure()\n",
    "# plt.plot(sum_diff)\n",
    "# peaks,_ = find_peaks(sum_diff,height = 2.5)\n",
    "# final_peaks = np.array([])\n",
    "# for peak in peaks:\n",
    "#     if(peak < sum_diff.size -1):\n",
    "#         diff_area = sum_diff[peak-1] + sum_diff[peak+1]+sum_diff[peak]\n",
    "#         if diff_area > 6.0:\n",
    "#             final_peaks = np.append(final_peaks,peak)\n",
    "\n",
    "# print(final_peaks)\n",
    "    \n",
    "    \n",
    "# print()"
   ]
  },
  {
   "cell_type": "code",
   "execution_count": 20,
   "metadata": {
    "scrolled": true
   },
   "outputs": [
    {
     "name": "stdout",
     "output_type": "stream",
     "text": [
      "[ 866  995 1078 1248 1329 1593 1745 2266 2618 3148 3652 4005 4370 4530\n",
      " 4704 4884 5045 5231 6447 6515 7123 7308 7829 7988 8122 8360]\n",
      "[ 977 1060 1234 1320 1516 1724 2106 2581 2957 3539 3964 4303 4498 4679\n",
      " 4863 4987 5171 5845 6499 7063 7268 7626 7969 8077 8325 8550]\n",
      "[1745 2266 2618 3148 3652 4005 5231 6515 7308]\n",
      "[2106 2581 2957 3539 3964 4303 5845 7063 7626]\n",
      "0\n",
      "1\n",
      "1\n",
      "1\n",
      "2\n",
      "1\n",
      "0\n",
      "2\n",
      "0\n"
     ]
    }
   ],
   "source": [
    "duration = pitch_off_arr - pitch_on_arr\n",
    "big_dur_idx = np.where(duration > 215)\n",
    "pitch_on_arr_big_dur = pitch_on_arr[big_dur_idx];\n",
    "pitch_off_arr_big_dur = pitch_off_arr[big_dur_idx];\n",
    "print(pitch_on_arr)\n",
    "print(pitch_off_arr)\n",
    "print(pitch_on_arr_big_dur)\n",
    "print(pitch_off_arr_big_dur)\n",
    "pitch_off_arr_inter= pitch_off_arr\n",
    "pitch_on_arr_inter = pitch_on_arr\n",
    "window_size = 80\n",
    "hop_size = 10\n",
    "for i in range(pitch_on_arr_big_dur.size):\n",
    "    start = pitch_on_arr_big_dur[i]\n",
    "    end = pitch_off_arr_big_dur[i]\n",
    "    energy_wave = E[start:end]\n",
    "    break_idx = findBreak(energy_wave)\n",
    "    print(break_idx.size)\n",
    "    if break_idx.size > 0:\n",
    "        for i in range(break_idx.size):\n",
    "            pitch_off_arr_inter = np.append(pitch_off_arr_inter,start +break_idx[i] * hop_size + window_size)\n",
    "            pitch_on_arr_inter = np.append(pitch_on_arr_inter, start+ break_idx[i]* hop_size + window_size +window_size//2)\n",
    "\n",
    "pitch_on_arr = np.sort(pitch_on_arr_inter)\n",
    "pitch_off_arr = np.sort(pitch_off_arr_inter)"
   ]
  },
  {
   "cell_type": "code",
   "execution_count": 21,
   "metadata": {},
   "outputs": [],
   "source": [
    "%matplotlib qt\n",
    "import matplotlib.pyplot as plt\n",
    "# test boundaries\n",
    "x = np.linspace(0,len(audio),len(audio))\n",
    "x = x / 128;\n",
    "plt.figure()\n",
    "plt.plot(x,audio)\n",
    "#for plot\n",
    "boundary = np.zeros(np.int16(np.floor(len(audio)/128)))\n",
    "boundary[np.int16(pitch_on_arr)] = 1\n",
    "boundary[np.int16(pitch_off_arr)] = -1\n",
    "plt.plot(boundary)\n",
    "\n",
    "pitch_on_arr = np.int16(pitch_on_arr)\n",
    "pitch_off_arr = np.int16(pitch_off_arr)"
   ]
  },
  {
   "cell_type": "code",
   "execution_count": null,
   "metadata": {},
   "outputs": [],
   "source": [
    "# from scipy import stats\n",
    "# pitch = stats.mode(pks_locs[397:445,0])\n",
    "# pitch = pitch[0]\n",
    "# freq_hz = 55 + (1760-55)/291 * pitch\n",
    "# pitch_midi = 12 * np.log2(32 * freq_hz/440) + 9\n",
    "# print(np.round(pitch_midi)[0])\n",
    "# # print()"
   ]
  },
  {
   "cell_type": "code",
   "execution_count": null,
   "metadata": {},
   "outputs": [],
   "source": [
    "import pretty_midi as pmidi\n",
    "pm = pmidi.PrettyMIDI(initial_tempo = 80)\n",
    "print(pm.instruments)\n",
    "inst = pmidi.Instrument(program = 2, is_drum = False, name = 'piano')\n",
    "pm.instruments.append(inst)\n",
    "print(pm.instruments)\n",
    "pks_locs.sort(axis = 1) \n",
    "for i in range(len(pitch_on_arr)):\n",
    "    velocity = 95\n",
    "    start = pitch_on_arr[i]\n",
    "    end = pitch_off_arr[i]\n",
    "    pitch = stats.mode(pks_locs[start:end,0])\n",
    "#     print(pitch)\n",
    "    pitch = pitch[0]\n",
    "    freq_hz = 55 + (1760-55)/291 * pitch\n",
    "    pitch_midi = 12 * np.log2(32 * freq_hz/440) + 9\n",
    "#     print(pitch_midi)\n",
    "    start_time = start /48000 * 128\n",
    "    end_time = end/48000 * 128\n",
    "    if (pitch_midi.size >0):\n",
    "        inst.notes.append(pmidi.Note(velocity,np.int8(np.round(pitch_midi)[0]), start_time, end_time))\n",
    "    else:\n",
    "        inst.notes.append(pmidi.Note(velocity,0, start_time, end_time))\n",
    "print(inst.notes)\n",
    "\n",
    "\n"
   ]
  },
  {
   "cell_type": "code",
   "execution_count": null,
   "metadata": {},
   "outputs": [],
   "source": [
    "import IPython.display\n",
    "fs = 16000 # I think this is the sampling rate for the music player to synthesize the music\n",
    "IPython.display.Audio(pm.synthesize(fs = fs),rate = 16000)\n",
    "# pm.write('test.mid')\n"
   ]
  },
  {
   "cell_type": "code",
   "execution_count": null,
   "metadata": {},
   "outputs": [],
   "source": [
    "# print(pitch_on_arr)\n",
    "# print(pitch_off_arr)\n",
    "# for i in range(pitch_on_arr.size):\n",
    "#     print(pks_locs[pitch_on_arr[i]:pitch_off_arr[i],:])\n",
    "#     print('hello')\n",
    "    \n",
    "    \n",
    "# a = np.array([[1,2,3],[4,5,6],[7,8,9],[10,11,12]])\n",
    "# print"
   ]
  },
  {
   "cell_type": "code",
   "execution_count": null,
   "metadata": {},
   "outputs": [],
   "source": [
    "# a = np.array([[1,2,3],[6,5,4],[7,8,9],[12,11,10]])\n",
    "# print(a)\n",
    "# a.sort(axis = 1)\n",
    "# print(a)\n",
    "# print(pks_locs)\n",
    "\n",
    "print(pitch_on_arr)\n",
    "print(pitch_off_arr)"
   ]
  },
  {
   "cell_type": "code",
   "execution_count": null,
   "metadata": {},
   "outputs": [],
   "source": [
    "a = np.array([14,16,20,22])\n",
    "# print(a)\n",
    "# print(a[0])\n",
    "i = 0\n",
    "while i < (a.size-1):\n",
    "    if a[i+1] - a[i] <=3:\n",
    "        a = np.delete(a,i)\n",
    "        print(a)\n",
    "        i -= 1\n",
    "    i +=1\n",
    "    print(i)\n",
    "print(a)"
   ]
  },
  {
   "cell_type": "code",
   "execution_count": 1,
   "metadata": {},
   "outputs": [
    {
     "name": "stdout",
     "output_type": "stream",
     "text": [
      ".wav\n"
     ]
    }
   ],
   "source": [
    "a = 'liyicheng.wav'\n",
    "print(a[-4:])"
   ]
  }
 ],
 "metadata": {
  "kernelspec": {
   "display_name": "Python 3",
   "language": "python",
   "name": "python3"
  },
  "language_info": {
   "codemirror_mode": {
    "name": "ipython",
    "version": 3
   },
   "file_extension": ".py",
   "mimetype": "text/x-python",
   "name": "python",
   "nbconvert_exporter": "python",
   "pygments_lexer": "ipython3",
   "version": "3.6.5"
  }
 },
 "nbformat": 4,
 "nbformat_minor": 2
}
