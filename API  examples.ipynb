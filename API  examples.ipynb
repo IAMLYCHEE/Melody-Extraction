{
 "cells": [
  {
   "cell_type": "code",
   "execution_count": 1,
   "metadata": {},
   "outputs": [
    {
     "name": "stdout",
     "output_type": "stream",
     "text": [
      "smooth the music\n",
      "pitch contouring...\n",
      "final freq1,freq2,freq3 generated\n",
      "final freq4 generated OK\n",
      "modified 27 notes\n",
      "smooth the music\n",
      "pitch contouring...\n",
      "final freq1,freq2,freq3 generated\n",
      "final freq4 generated OK\n",
      "modified 27 notes\n"
     ]
    }
   ],
   "source": [
    "from getPitchInfo import PitchInfo\n",
    "pitch_info = PitchInfo('./wav/meiruoliming.wav')\n",
    "notes,_ = pitch_info.getNotesInfo()"
   ]
  },
  {
   "cell_type": "code",
   "execution_count": null,
   "metadata": {},
   "outputs": [],
   "source": [
    "for note in notes:\n",
    "    print(note)"
   ]
  },
  {
   "cell_type": "code",
   "execution_count": 7,
   "metadata": {},
   "outputs": [
    {
     "name": "stdout",
     "output_type": "stream",
     "text": [
      "smooth the music\n",
      "pitch contouring...\n",
      "final freq1,freq2,freq3 generated\n",
      "final freq4 generated OK\n",
      "modified 27 notes\n",
      "smooth the music\n",
      "pitch contouring...\n",
      "final freq1,freq2,freq3 generated\n",
      "final freq4 generated OK\n",
      "modified 27 notes\n"
     ]
    },
    {
     "data": {
      "text/plain": [
       "[<matplotlib.lines.Line2D at 0x27c01dda438>]"
      ]
     },
     "execution_count": 7,
     "metadata": {},
     "output_type": "execute_result"
    },
    {
     "data": {
      "text/plain": [
       "[<matplotlib.lines.Line2D at 0x27c01dda438>]"
      ]
     },
     "execution_count": 7,
     "metadata": {},
     "output_type": "execute_result"
    }
   ],
   "source": [
    "%matplotlib qt\n",
    "import matplotlib.pyplot as plt\n",
    "freq,audio = pitch_info.getFreqInfo()\n",
    "\n",
    "\n",
    "#illustrate part of the audio and the corresponding \n",
    "plt.plot(audio[:audio.shape[0]//5] * 400)\n",
    "plt.plot(freq[:freq.shape[0]//5])\n"
   ]
  },
  {
   "cell_type": "code",
   "execution_count": null,
   "metadata": {},
   "outputs": [],
   "source": []
  }
 ],
 "metadata": {
  "kernelspec": {
   "display_name": "Python 3",
   "language": "python",
   "name": "python3"
  },
  "language_info": {
   "codemirror_mode": {
    "name": "ipython",
    "version": 3
   },
   "file_extension": ".py",
   "mimetype": "text/x-python",
   "name": "python",
   "nbconvert_exporter": "python",
   "pygments_lexer": "ipython3",
   "version": "3.6.5"
  }
 },
 "nbformat": 4,
 "nbformat_minor": 2
}
